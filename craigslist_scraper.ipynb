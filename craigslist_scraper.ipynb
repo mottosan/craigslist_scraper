{
 "cells": [
  {
   "cell_type": "code",
   "execution_count": 33,
   "metadata": {
    "collapsed": true
   },
   "outputs": [],
   "source": [
    "import pandas as pd\n",
    "import requests\n",
    "from BeautifulSoup import BeautifulSoup as bs4\n",
    "from urlparse import urljoin\n",
    "import numpy as np\n",
    "import pandas as pd\n",
    "import sys"
   ]
  },
  {
   "cell_type": "code",
   "execution_count": 34,
   "metadata": {
    "collapsed": true
   },
   "outputs": [],
   "source": [
    "def get_parent_page(url_base):\n",
    "    rsp = requests.get(url_base)\n",
    "    html = bs4(rsp.text)\n",
    "    apts = html.findAll('li', attrs={'class': 'result-row'})\n",
    "    return apts\n",
    "    \n",
    "def find_result_info(apt):\n",
    "    return apt.find('p', attrs={'class': 'result-info'})\n",
    "\n",
    "def find_title(apt):\n",
    "    result_info = find_result_info(apt)\n",
    "    return result_info.find('a').text\n",
    "    \n",
    "def find_time(apt):\n",
    "    result_info = find_result_info(apt)\n",
    "    return result_info.find('time').text\n",
    "\n",
    "def find_link(url_base, apt):\n",
    "    result_info = find_result_info(apt)\n",
    "    path = result_info.find('a')['href']\n",
    "    return urljoin(url_base, path)\n",
    "    \n",
    "def get_description(link):\n",
    "    rsp = requests.get(link, dict())\n",
    "    ad_html = bs4(rsp.text)\n",
    "    posting_body = ad_html.find('section', attrs={'id': 'postingbody'})\n",
    "    return posting_body.contents[2]"
   ]
  },
  {
   "cell_type": "code",
   "execution_count": null,
   "metadata": {},
   "outputs": [
    {
     "name": "stdout",
     "output_type": "stream",
     "text": [
      "[u'Jul 30', 'Cleveland west  1 bedroom apartment', 'http://cleveland.craigslist.org/apa/d/cleveland-west-bedroom/6208692593.html', '\\nOne bedroom upstairs unit with many updates!It also includes a refrigerator and stove. The rent does not include any utilities.To qualify for the unit you must have a current utility bill from where you live now and also a current pay stub.We also do not accept any vouchers or any type of assistance of any kind.Pets are negotiable.Please call erik for more information. No text    ']\n",
      "[u'Jul 30', '2 BR in Collinwood - Convenient Location, Quiet Neihborhood', 'http://cleveland.craigslist.org/apa/d/br-in-collinwood-convenient/6243101313.html', '\\nPrior tenant moved out last week.  I have not been there since she moved out, but she was a neat person and she assured me that she left it clean and it just needed a few touch-ups.  I guess I\"ll find out when I get there!']\n",
      "[u'Jul 30', '4 bedroom 1 1/2 baths plenty of room', 'http://cleveland.craigslist.org/apa/d/bedroom-baths-plenty-of-room/6243098662.html', '\\nNice roomy 4 bedroom 1.5 baths located 2nd and third floor of a 2 family home. The unit has garage parking large kitchen, dinning area large living room.  Has private front porch nice back yard. Dry basement with storage unit and washer an dryer hookup. Unit ready for move in Sept 1st.  For more information please feel free to contact me be sure to leave your name telephone number along with your job info and how many peple the unit is for. Thank you    ']\n",
      "[u'Jul 30', 'Berea 2bd - heart of the city (near shops, hospital, IX, Browns)- #1D', 'http://cleveland.craigslist.org/apa/d/berea-bd-heart-of-the-city/6218891621.html', '\\n']\n",
      "[u'Jul 30', 'THE Hayes Hall - Easy Cleveland Commute - w/ storage, parking, and pet', 'http://cleveland.craigslist.org/apa/d/the-hayes-hall-easy-cleveland/6215004219.html', '\\n12228 Clifton Blvd APT 8,']\n",
      "[u'Jul 30', 'Cleveland 1bd Near the Zoo! - parking, pets, online features - LM 202', 'http://cleveland.craigslist.org/apa/d/cleveland-bd-near-the-zoo/6236947728.html', '\\n']\n",
      "[u'Jul 30', '2BR/1BA Spacious with $350 Move-In Special!', 'http://cleveland.craigslist.org/apa/d/br-ba-spacious-with-move-in/6224029491.html', \"\\nSave $350 off your first month's rent! \"]\n",
      "[u'Jul 30', 'Large 2BR -Large apt with Vertical Blinds and Ceiling fans', 'http://cleveland.craigslist.org/apa/d/large-br-large-apt-with/6212717362.html', '\\nAsk how you can save $350 with our Move-In SPECIAL!']\n",
      "[u'Jul 30', 'Winslow Rd. Historic District, Shaker Heights, Up Apt., for Dog Lovers', 'http://cleveland.craigslist.org/apa/d/winslow-rd-historic-district/6243093930.html', '\\nCharming 1924-vintage 2nd fl. unfurnished apt in a quite, 2-family house located in the Winslow Road Historic District']\n",
      "[u'Jul 30', 'Beautiful 2 bedrooms West Side apartment', 'http://cleveland.craigslist.org/apa/d/beautiful-bedrooms-west-side/6243076671.html', '\\n1895 West 52nd street']\n",
      "[u'Jul 30', '4 BR HOUSE FOR RENT', 'http://cleveland.craigslist.org/apa/d/br-house-for-rent/6243047618.html', '\\nLarge 4 BR 1 Bath House For Rent. It has a Large Back Yard and Big Basement.']\n",
      "[u'Jul 30', '-- EDGECLIFF APARTMENTS -- 3rd Floor Luxury Suite!', 'http://cleveland.craigslist.org/apa/d/edgecliff-apartments-rd-floor/6237094254.html', '\\nBEST LOCATION IN LAKEWOOD, Luxury Suites, near the lake and across Lakewood Park. Family owned &amp; managed! We offer: 1/2/3 Bedrooms, 1 &amp; 2 Full Baths. (1Br: 1000 Sq. Ft @ $825/ month), (2Br: 1400 Sq. Ft @ $1000/month), (3Br: 1600 Sq. Ft @ $1200/month), available NOW. ']\n",
      "[u'Jul 30', '1 Bedroom Down--Gas Included -- Newly Remodeled', 'http://cleveland.craigslist.org/apa/d/bedroom-down-gas-included/6243063860.html', '\\nI have a beautiful one bedroom apartment down in a side by side duplex house.  Spacious eat-in kitchen.']\n",
      "[u'Jul 30', 'Warm &amp; Inviting 3-Bedroom Home in Garfield Heights!', 'http://cleveland.craigslist.org/apa/d/warm-inviting-bedroom-home-in/6243047645.html', '\\nThis home is a true gem with inviting features galore! With 1,044 square feet of well-designed living space, this home has all the feature and amenities to make you feel right at home. ']\n",
      "[u'Jul 30', 'The Almighty Towpath- Live Right Next Door to it!', 'http://cleveland.craigslist.org/apa/d/the-almighty-towpath-live/6243045629.html', '\\n']\n",
      "[u'Jul 30', 'Downtown Condo with the Luxury of Beauty, and the Beauty of Luxury!', 'http://cleveland.craigslist.org/apa/d/downtown-condo-with-the/6243026953.html', \"\\nFrom the very moment you walk into the building you'll be floored by some of the best downtown Cleveland living you'll find for the price. The suite is unique in every way. Inside, you'll enjoy a very spacious living and dining room area with a huge window which provides plenty of natural lighting, pristine hardwood floors, and lofted ceilings with exposed ducts for an industrial feel that Cleveland is known for.The wifi-connected Nest thermostat makes controlling the temperature of this absolutely gorgeous space an easy task which you can do from anywhere in the world! \"]\n",
      "[u'Jul 30', 'The Hat Factory Apartments', 'http://cleveland.craigslist.org/apa/d/the-hat-factory-apartments/6243028565.html', \"\\nThe Hat Factory Apartments are located in the heart of the Warehouse District.  We will have a 830 SF loft style suite available the second week of October.  It is currently on the market for $1,150.00 per month.  All appliances are included along with an in suite washer and dryer.  Garage covered parking is also available for $160.00 a month.  We can show the suite Monday through Friday from 11am till 4pm by appointment.  I expect this suite will go quickly, if you're interested please feel free to contact me.    \"]\n",
      "[u'Jul 30', 'large eat-in area withe sliding glass doors leading to the back patio.', 'http://cleveland.craigslist.org/apa/d/large-eat-in-area-withe/6214767796.html', '\\nThe home offers approximately 1,200 square feet of living space on a lot size of about 4,816 square feet. The family room has beautiful hardwood floors and an amazing all stone feature wall with a picture window. Completely updated kitchen with new built-in cabinets, new backsplash, new tile floor, new stainless steal range, new stainless steal microwave, new stainless steal refrigerator and large eat-in area withe sliding glass doors leading to the back patio. Conveniently located first floor laundry room off the kitchen. The second floor features the 3 bedrooms, 2 with hardwood floors, 1 with carpet, and all have a closet and a ceiling fan. Also, on the second for is the updated full bathroom with new tile flooring, new light fixture, new mirror, and new vanity with new sink, new faucet, and granite countertop. Other features include a fenced-in and newly landscaped backyard with a utility shed and a back patio with an awning. This impressively renovated Colonial is located in the beautiful City of Euclid, Ohio. ']\n",
      "[u'Jul 30', 'large eat-in area withe sliding glass doors leading to the back patio.', 'http://cleveland.craigslist.org/apa/d/large-eat-in-area-withe/6214767331.html', '\\nThe home offers approximately 1,200 square feet of living space on a lot size of about 4,816 square feet. The family room has beautiful hardwood floors and an amazing all stone feature wall with a picture window. Completely updated kitchen with new built-in cabinets, new backsplash, new tile floor, new stainless steal range, new stainless steal microwave, new stainless steal refrigerator and large eat-in area withe sliding glass doors leading to the back patio. Conveniently located first floor laundry room off the kitchen. The second floor features the 3 bedrooms, 2 with hardwood floors, 1 with carpet, and all have a closet and a ceiling fan. Also, on the second for is the updated full bathroom with new tile flooring, new light fixture, new mirror, and new vanity with new sink, new faucet, and granite countertop. Other features include a fenced-in and newly landscaped backyard with a utility shed and a back patio with an awning. This impressively renovated Colonial is located in the beautiful City of Euclid, Ohio. ']\n",
      "[u'Jul 30', 'Nice Exposed Brick Fresh new Paint', 'http://cleveland.craigslist.org/apa/d/nice-exposed-brick-fresh-new/6238738337.html', '\\nCome see us Today!!! Only a few left and Great Prices!!!!']\n",
      "[u'Jul 30', 'Fabulous Ohio City 2 bedroom', 'http://cleveland.craigslist.org/apa/d/fabulous-ohio-city-bedroom/6243012875.html', '\\nThis gorgeous two bedroom suite has it all--high ceilings (10ft.+) throughout, central air, exposed brick, glass block, tile bath with elevated tub, hardwood floors, all new ikea kitchen with stainless steel and butcher block countertops, off-street parking (free), off-street parking (free), basement storage (free), call Ed for details or to show.    ']\n"
     ]
    },
    {
     "name": "stdout",
     "output_type": "stream",
     "text": [
      "[u'Jul 30', '1 Bedroom 1 Bathroom Available For Rent In North Olmsted 44070!', 'http://cleveland.craigslist.org/apa/d/bedroom-bathroom-available/6237188105.html', '\\nhttp://www.archrentco.com/info/808212/']\n",
      "[u'Jul 30', 'Beautiful Home', 'http://cleveland.craigslist.org/apa/d/beautiful-home/6242964910.html', '\\nBEAUTIFUL ']\n",
      "[u'Jul 30', 'East Cleveland Bungalow New Carpet &amp; Hardwood Floors Aug 2017', 'http://cleveland.craigslist.org/apa/d/east-cleveland-bungalow-new/6227172311.html', '\\nEast Cleveland 3 Bedroom / 1 Bath Single Family']\n",
      "[u'Jul 30', 'NICE Eastside Triplex 2bd (Up) August 2017', 'http://cleveland.craigslist.org/apa/d/nice-eastside-triplex-bd-up/6238316398.html', '\\nAny QUESTIONS CALL \\n ']\n",
      "[u'Jul 30', '1519 E 41st St, Cleveland, OH 44103', 'http://cleveland.craigslist.org/apa/d/st-st-cleveland-oh/6242928533.html', '\\n2 bedroom plus Kitchen, family room, Living room for rent. It is a quiet street, and Apt. is very close to CSU, Downtown Cleveland. $575.00/Month.  Gas and Electricity NOT Included. A SECURITY DEPOSIT OF $575.00 IS REQUIRED WITH NO EXCEPTIONS. You must show proof of employment and pass credit check. ']\n",
      "[u'Jul 30', 'Short term rental', 'http://cleveland.craigslist.org/apa/d/short-term-rental/6242932827.html', '\\nNice refurbished unit in twinsburg available for short term stay (2 month leases) heat and water included! $850 per month    ']\n",
      "[u'Jul 30', '$675 / 2br - 900ft2 - Cleveland Heights at Cedar/Lee (Cedar Lee)', 'http://cleveland.craigslist.org/apa/d/br-ft-cleveland-heights-at/6238127648.html', '\\nTwo bedroom First Floor of double is available on Kensington. Close to Lee Road shopping. (walking distance) to Coffee shops and Yoga. Generous room sizes. Carpeted and clean. Full Kitchen with Stove, Refrigerator, Dish Washer and Microwave. One garage and one parking spaces are available. Close to bus lines. Laundry facilities are available at no charge. No smoking. Small pet is OK. Lease required. Storage is available. Rent is $675 per month. Close to CWRU, CCF, UH and JCU. Nice front porch for dining.    ']\n",
      "[u'Jul 30', 'Movers**Moving**Local**Long Distance**Great Pricing** (All over Ohio', 'http://cleveland.craigslist.org/apa/d/moversmovinglocallong/6204467826.html', '\\nGreat local and long distance moving services.My name is Michael and i am a booking agent at B&amp;M Moving.We are a Full service Moving and Packing Co.with years in the moving industry.If your hiring movers from craigslist we are the right choice.Local moving services pricing ( 2 movers and any size truck with everything needed to load and move your belongings safely   ']\n",
      "[u'Jul 30', '\\xce\\xa6 Low Cost Housing Available In Your Area \\xce\\xa6', 'http://cleveland.craigslist.org/apa/d/low-cost-housing-available-in/6242848001.html', '\\nThis store front is in a great location on Lakeshore Blvd. It is close to highway access and on the busline. The public transportation stops right in front of your door so you will never miss a client. The water and sewer is paid by the owner and there are new coined laundry facilities being installed. There is on-sight maintenance to assure the grounds remain clean and your maintenance needs are met. You have ample parking in the rear of the building, 24 hour surveillance and two entrances. This storefront is a build to suit location and requires a two year lease.']\n",
      "[u'Jul 30', 'house for rent', 'http://cleveland.craigslist.org/apa/d/house-for-rent/6242864473.html', '\\n3-4 bdrm 2 bath house for rent. Close to schools, large corner lot, quiet neighborhood, pet friendly, attached garage. All appliances stay. Serious inquiries only.    ']\n",
      "[u'Jul 30', 'Beautiful Ranch For Rent on Crestwood', 'http://cleveland.craigslist.org/apa/d/beautiful-ranch-for-rent-on/6227400666.html', '\\nImmaculately maintained, 3 BR, 1.5 Bath, ranch for rent in Avon Lake.']\n",
      "[u'Jul 30', 'Very nice home on a quiet street.', 'http://cleveland.craigslist.org/apa/d/very-nice-home-on-quiet-street/6242844916.html', '\\n12800 Soika Ave Cleveland Ohio 44122']\n",
      "[u'Jul 30', 'W 120St. Duplex, upper unit', 'http://cleveland.craigslist.org/apa/d/st-duplex-upper-unit/6242836802.html', '\\nW 120St, zip 44111. Close to major highways (I-90, I-71, I-480)']\n",
      "[u'Jul 30', '2 Bedroom suite - The Granby - Shaker Square', 'http://cleveland.craigslist.org/apa/d/bedroom-suite-the-granby/6242823414.html', '\\n']\n",
      "[u'Jul 30', '1 Bedroom Apartment Move in Auguust ! Liberty Hill Apartments', 'http://cleveland.craigslist.org/apa/d/bedroom-apartment-move-in/6242821351.html', \"\\nCome in and see our beautiful 1 bedroom suite! With a large eat-in kitchen, tons of closet space, king-sized bedroom, and all our community's amenities, it will feel like home right away! Solon is an award winning city, voted one of the best places to live!  http://www.solonohio.org/161/Awards-Recognition\"]\n",
      "[u'Jul 30', \"September Rentals ! Call Liberty Hill Today ! Don't Pass This Up!!\", 'http://cleveland.craigslist.org/apa/d/september-rentals-call/6242817360.html', \"\\nCome in and see our beautiful 2 bedroom suite! With a large eat-in kitchen, 2 full baths, and all our community's amenities, it will feel like home right away! Solon is an award winning city with top-of-the-line schools - http://www.solonohio.org/161/Awards-Recognition\"]\n",
      "[u'Jul 30', 'Time Is Ticking! August Rentals At Liberty Hill Apartments Solon', 'http://cleveland.craigslist.org/apa/d/time-is-ticking-august/6242813581.html', '\\nBe a part of our wonderful community today! Liberty Hill Apartments offers spacious and functional apartment homes, nestled in the established and peaceful housing neighborhood. Never miss a beat with our convenient amenities, such as an outdoor heated swimming pool, 24-hour fitness center, and clubhouse. We have so much to offer:']\n",
      "[u'Jul 30', 'Stone Pointe Apartments Studio', 'http://cleveland.craigslist.org/apa/d/stone-pointe-apartments-studio/6242813077.html', '\\nStone Pointe Apartments in Willoughby Ohio now has a studio suite available.']\n",
      "[u'Jul 30', 'Beautiful three-bedroom, one-and-half bathroom home, with a large part', 'http://cleveland.craigslist.org/apa/d/beautiful-three-bedroom-one/6234754917.html', '\\nBeautiful three-bedroom, one-and-half bathroom home, with a large partly covered deck and newly landscaped backyard. Attached large deck, partly covered, provides a perfect entertaining space. Hardwood floors on the first floor and new carpet on the second floor. Large finished basement with small shower. Remodeled kitchen with new high-end appliances and fixtures, under-sink water filter and garbage disposal. Newer air-conditioning and whole house water softening system. Washer and dryer available. Single car detached garage. Newly landscaped. Central location, close to highways.    ']\n",
      "[u'Jul 30', 'No more carpet!', 'http://cleveland.craigslist.org/apa/d/no-more-carpet/6242790737.html', '\\n']\n",
      "[u'Jul 30', '....&amp;&amp;.. AVAILABLE....&amp;&amp;..', 'http://cleveland.craigslist.org/apa/d/available/6242790556.html', '\\n']\n",
      "[u'Jul 30', 'Minutes from downtown/Treamont', 'http://cleveland.craigslist.org/apa/d/minutes-from-downtown-treamont/6239742875.html', '\\nTwo bedroom up old Brooklyn off of Route 176  New carpet updated  coin operated laundry in the basement garage parking central air large front porch small back porch no smoking taking applications.sorry no section 8    ']\n",
      "[u'Jul 30', 'Beautiful 1 bedroom on western end of Lakewood', 'http://cleveland.craigslist.org/apa/d/beautiful-bedroom-on-western/6242770150.html', '\\nAmazing 3rd floor apartment on prestigious Clifton Blvd near Edwards Ave.  1 bedroom 1 bathroom with large living area.  Recently updated bathroom and kitchen, and paint throughout. All new appliances have recently been installed. Incredible walk-in closet measuring at almost 120 square feet. Included washer and dryer, parking spaces, and storage. Only electric and cable/internet are paid for by tenant. Within walking distance to Lakewood parks, restaurants, and shopping. ']\n",
      "[u'Jul 30', 'Lots of Rentalks Available', 'http://cleveland.craigslist.org/apa/d/lots-of-rentalks-available/6242707403.html', '\\nWe have lots of available rentals in Cleveland Heights, South Euclid and University Heights.']\n"
     ]
    },
    {
     "name": "stdout",
     "output_type": "stream",
     "text": [
      "[u'Jul 30', 'Strongsville house 3bd 1ba 1000 month rent', 'http://cleveland.craigslist.org/apa/d/strongsville-house-bd-ba/6242741818.html', '\\nStrongsville Rental immediate occupancy at 21042 Westwood Dr. 3 bedroom 1 bath. First Floor Master. Does not have garage. $1000 a month. Tenant pays utilities and responsible for lawn maintenance.    ']\n",
      "[u'Jul 30', 'Luxury Apartment with Modern Warehouse Vibes!!', 'http://cleveland.craigslist.org/apa/d/luxury-apartment-with-modern/6242746821.html', '\\n']\n",
      "[u'Jul 30', 'Up-scaled Large Single Family Home in West Blvd Neighborhood', 'http://cleveland.craigslist.org/apa/d/up-scaled-large-single-family/6242735799.html', '\\nThis large single family home in the West Blvd neighborhood of Cleveland is virtually BRAND NEW!! This home has been renovated and restored to its original greatness. Newer roof, glass block windows, kitchen remodeled with newer custom cabinets; original hardwood floors have been sanded and refinished throughout the whole house and look brand new. The upstairs bathroom has been remodeled and an additional full bathroom was added in the basement. High-end wainscoting in the dining and family rooms; all new plumbing and upgraded electrical and much more than can be mentioned here. On the outside, restored front porch, and added beautiful wooden deck in the backyard that you can come out straight from two double glass doors in the dining room - perfect for an early morning breakfast, coffee, or entertaining with your friends. Also, a 2 and 1/2 car garage has been restored with a brand new 2-car garage door and automatic door opener system. Easy access to highways and minutes from Downtown, Ohio City, Detroit Shoreway, Tremont, &amp; Lakewood.']\n",
      "[u'Jul 30', 'SPACIOUS THREE BEDROOM AT FOUR SEASONS', 'http://cleveland.craigslist.org/apa/d/spacious-three-bedroom-at/6242708834.html', '\\nImpressive three bedroom at Four Seasons boasting 2,400 square feet and three full bathrooms!  Call and schedule an appointment today.']\n",
      "[u'Jul 30', '3 bedroom 2 bath', 'http://cleveland.craigslist.org/apa/d/bedroom-bath/6242715788.html', '\\n$1235 for a 12 month lease']\n",
      "[u'Jul 30', 'Aqua Marine Luxury Apartments, 2 bed/2 bath', 'http://cleveland.craigslist.org/apa/d/aqua-marine-luxury-apartments/6242696147.html', '\\nWe are renting our apartment! 9 month lease to be managed by leasing office.']\n",
      "[u'Jul 30', '**AUGUST SPECIAL**', 'http://cleveland.craigslist.org/apa/d/august-special/6242695022.html', '\\nI will have a 2 bdrm,1 bath,on the first floor,of a 2 family available August,5.Front porch,security doors,Living room,dining room,off street parking,and water included.Pets allowed with a $100 deposit for 1 pet and $150 for 2 (2 pet maximum),no aggressive dogs.There is a $5,application fee,if you are interested in applying for the property.    ']\n",
      "[u'Jul 30', 'GREAT 4 BDRM Lake House/Mins from Downtown', 'http://cleveland.craigslist.org/apa/d/great-bdrm-lake-house-mins/6231107969.html', '\\nIt comes with stainless appliances, original hardwood floors and gorgeous finishes, satellite TV/Internet included, central air, washer/dryer and much more. It has the charm of an old world home with all the modern comforts. Large living room, dining room, updated kitchen, full basement, 1.5 bath, off street parking, deck, and more...']\n",
      "[u'Jul 30', 'Fully furnished, 3-Bedroom Remodeled House, $2000/mo + Utilities', 'http://cleveland.craigslist.org/apa/d/fully-furnished-bedroom/6242689944.html', '\\nFreshly renovated, fully furnished, light-filled house (approx.1500 sq ft)! Situated 15 minutes from downtown, in the heart of Cleveland Heights,walking distance to many restaurants, with all modern amenities/appliances and quiet comfort. ']\n",
      "[u'Jul 30', 'St Clair/Casper 2bdrm', 'http://cleveland.craigslist.org/apa/d/st-clair-casper-bdrm/6225021160.html', '\\nFreshly painted 2bdrm carpet and vinyl floors 550.00plus deposit ']\n",
      "[u'Jul 30', '....&amp;&amp;..FABULOUS NEW CARPET EXTRA STORAGE AVAILABLE....&amp;&amp;..', 'http://cleveland.craigslist.org/apa/d/fabulous-new-carpet-extra/6210265627.html', \"\\n\\nVERY BRIGHT/SUNNY NORTH EXPOSURE.\\nA/C-BLINDS-WASHER & DRYER-DINING ROOM.\\nNEWLY RENOVATED 2 BEDROOM HOME FOR RENT. CLOSE TO ALL TRANSPORTATION, SHOPPING AND LAUNDROMAT.\\n\\nMODERN KITCHEN WITH STAINLESS STEEL APPLIANCES.\\n11' HIGH CEILING, ORIGINAL VINTAGE HARDWOOD OAK FLOOR, HUGE CLOSET + EXTRA OVERHEAD STORAGE.\\nFULL SEPARATE KITCHEN WITH AMPLE CABINET AND COUNTER SPACE.\\n\\nWASHING MACHINE (INSTALLED JUNE 2014) AND DRYER ARE IN EASY-ACCESS BASEMENT.\\n2 FULL SIZE BATHROOMS AND EAT IN KITCHEN.\\nFINISHED BASEMENT INCLUDES 3 BEDROOMS, LAUNDRY ROOM AND ONE FULL BATHROOM.\"]\n",
      "[u'Jul 30', 'Affordable 1 Bedroom Apartment Home Available Now!', 'http://cleveland.craigslist.org/apa/d/affordable-bedroom-apartment/6242635187.html', '\\nWelcome home to Euclid Apartments. Our amazing 1 , two and three bedroom homes feature a spacious floor plan, private patio/balcony and free heat. Your new home will also include several closets and an eat-in kitchen. Call today to schedule a tour and make Euclid Apartments your new home! ']\n",
      "[u'Jul 30', 'ADA Compliant! Spacious open floor plan 2 Bed/2 Bath with wooded view!', 'http://cleveland.craigslist.org/apa/d/ada-compliant-spacious-open/6242626267.html', '\\nBeautiful 1200 square foot apartment home with VIEW OF WOODS from every room!']\n",
      "[u'Jul 30', 'Whoa Tiled Kitchens And Bathrooms Fresh Paint', 'http://cleveland.craigslist.org/apa/d/whoa-tiled-kitchens-and/6238673737.html', '\\nCome see us Today!!! Only a few left and Great Prices!!!!']\n",
      "[u'Jul 30', 'LAKE ERIE VIEWS All New', 'http://cleveland.craigslist.org/apa/d/lake-erie-views-all-new/6242614837.html', '\\nLAKE ERIE VIEWS, Monday Aug 1 open house. ']\n",
      "[u'Jul 30', '3 Bedroom Ranch w Finished Bsmnt', 'http://cleveland.craigslist.org/apa/d/bedroom-ranch-finished-bsmnt/6242601447.html', '\\nNewly Remodeled 3 bedroom Brink Ranch in Middleburg Hts.  14724 Seneca Tr.  Finished Basement, Attached garage, Sunroom in back, All Appliances. Freshly Painted,  Immediate Occupancy.  Pets OK  Please call to schedule an appointment.  ']\n",
      "[u'Jul 30', 'Elegant 3 Bedroom in Beautiful Community with Deluxe Amenities!', 'http://cleveland.craigslist.org/apa/d/elegant-bedroom-in-beautiful/6242582622.html', '\\nSecond floor!!']\n",
      "[u'Jul 30', '2 bedroom / 2 bath with a beautiful heated outdoor pool', 'http://cleveland.craigslist.org/apa/d/bedroom-bath-with-beautiful/6242597432.html', '\\n Bring in a copy of this Ad for a free application fee! ']\n",
      "[u'Jul 30', '2 BEDROOM SINGLE FAMILY HOUSE', 'http://cleveland.craigslist.org/apa/d/bedroom-single-family-house/6232982649.html', '\\n2 Bedroom bath and a half, finished basement, laundry room with a washer and dryer and a shower.']\n",
      "[u'Jul 30', '1BR/1BA in North Royalton, Thirty Minutes from Cleveland', 'http://cleveland.craigslist.org/apa/d/br-ba-in-north-royalton/6242587959.html', '\\n']\n"
     ]
    }
   ],
   "source": [
    "url_base = [\n",
    "    \"http://cleveland.craigslist.org/apa\",\n",
    "\n",
    "]\n",
    "results = []\n",
    "for url in url_base:\n",
    "    apts = get_parent_page(url)\n",
    "    for apt in apts:\n",
    "        try:\n",
    "            title = find_title(apt)\n",
    "            time = find_time(apt)\n",
    "            link = find_link(url, apt)\n",
    "            description = get_description(link)\n",
    "\n",
    "            data = [time, title.encode('utf-8'), link.encode('utf-8'), description.encode('utf-8')]\n",
    "            print data\n",
    "            results.append(data)\n",
    "        except:\n",
    "             e = sys.exc_info()[0]\n",
    "\n",
    "print \"Retrieved {0} results\".format(len(results))"
   ]
  },
  {
   "cell_type": "code",
   "execution_count": null,
   "metadata": {
    "collapsed": true
   },
   "outputs": [],
   "source": []
  }
 ],
 "metadata": {
  "kernelspec": {
   "display_name": "Python 2",
   "language": "python",
   "name": "python2"
  },
  "language_info": {
   "codemirror_mode": {
    "name": "ipython",
    "version": 2
   },
   "file_extension": ".py",
   "mimetype": "text/x-python",
   "name": "python",
   "nbconvert_exporter": "python",
   "pygments_lexer": "ipython2",
   "version": "2.7.13"
  }
 },
 "nbformat": 4,
 "nbformat_minor": 2
}
